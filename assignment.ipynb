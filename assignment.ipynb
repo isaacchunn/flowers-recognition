{
 "cells": [
  {
   "cell_type": "markdown",
   "metadata": {},
   "source": [
    "## Flowers Recognition \n",
    "\n",
    "The Oxford Flowers 102 dataset is a collection of 102 flower categories commonly occurring in the United \n",
    "Kingdom. Each class consists of between 40 and 258 images. The images have large scale, pose and light \n",
    "variations. In addition, there are categories that have large variations within the category and several very \n",
    "similar categories. \n",
    "The dataset is divided into a training set, a validation set and a test set. The training set and validation set \n",
    "each consist of 10 images per class (a total of 1020 images each). The test set consists of the remaining \n",
    "6149 images (minimum 20 per class). Some tasks to consider: \n",
    "1. Modify some previously published architectures e.g., increase the network depth, reducing their \n",
    "parameters,  etc.  Explore  more  advanced  techniques  such  as  deformable  convolution,  dilated \n",
    "convolution (dilation>1) or visual prompt tuning for Transformers. \n",
    "2. Analyze the results of using fewer training images, i.e., few-shot learning \n",
    "3. Use  more  advanced  transformation  techniques  such  as  MixUp  (see  the  original  paper  and  its \n",
    "PyTorch implementation here) \n",
    "4. Try more advanced loss function such as triplet loss"
   ]
  },
  {
   "cell_type": "code",
   "execution_count": null,
   "metadata": {},
   "outputs": [
    {
     "name": "stdout",
     "output_type": "stream",
     "text": [
      "Looking in indexes: https://pypi.org/simple, https://download.pytorch.org/whl/cu124Note: you may need to restart the kernel to use updated packages.\n",
      "\n",
      "Requirement already satisfied: torch==2.5.1 in c:\\users\\isaac\\documents\\github\\flowers-recognition\\.venv\\lib\\site-packages (from -r requirements.txt (line 2)) (2.5.1+cu124)\n",
      "Requirement already satisfied: torchvision==0.20.1 in c:\\users\\isaac\\documents\\github\\flowers-recognition\\.venv\\lib\\site-packages (from -r requirements.txt (line 3)) (0.20.1+cu124)\n",
      "Requirement already satisfied: torchaudio==2.5.1 in c:\\users\\isaac\\documents\\github\\flowers-recognition\\.venv\\lib\\site-packages (from -r requirements.txt (line 4)) (2.5.1+cu124)\n",
      "Requirement already satisfied: tqdm==4.64.1 in c:\\users\\isaac\\documents\\github\\flowers-recognition\\.venv\\lib\\site-packages (from -r requirements.txt (line 5)) (4.64.1)\n",
      "Requirement already satisfied: matplotlib==3.10.1 in c:\\users\\isaac\\documents\\github\\flowers-recognition\\.venv\\lib\\site-packages (from -r requirements.txt (line 6)) (3.10.1)\n",
      "Requirement already satisfied: numpy==1.24.3 in c:\\users\\isaac\\documents\\github\\flowers-recognition\\.venv\\lib\\site-packages (from -r requirements.txt (line 7)) (1.24.3)\n",
      "Requirement already satisfied: scipy in c:\\users\\isaac\\documents\\github\\flowers-recognition\\.venv\\lib\\site-packages (from -r requirements.txt (line 8)) (1.15.2)\n",
      "Requirement already satisfied: filelock in c:\\users\\isaac\\documents\\github\\flowers-recognition\\.venv\\lib\\site-packages (from torch==2.5.1->-r requirements.txt (line 2)) (3.13.1)\n",
      "Requirement already satisfied: typing-extensions>=4.8.0 in c:\\users\\isaac\\documents\\github\\flowers-recognition\\.venv\\lib\\site-packages (from torch==2.5.1->-r requirements.txt (line 2)) (4.9.0)\n",
      "Requirement already satisfied: networkx in c:\\users\\isaac\\documents\\github\\flowers-recognition\\.venv\\lib\\site-packages (from torch==2.5.1->-r requirements.txt (line 2)) (3.3)\n",
      "Requirement already satisfied: jinja2 in c:\\users\\isaac\\documents\\github\\flowers-recognition\\.venv\\lib\\site-packages (from torch==2.5.1->-r requirements.txt (line 2)) (3.1.3)\n",
      "Requirement already satisfied: fsspec in c:\\users\\isaac\\documents\\github\\flowers-recognition\\.venv\\lib\\site-packages (from torch==2.5.1->-r requirements.txt (line 2)) (2024.6.1)\n",
      "Requirement already satisfied: sympy==1.13.1 in c:\\users\\isaac\\documents\\github\\flowers-recognition\\.venv\\lib\\site-packages (from torch==2.5.1->-r requirements.txt (line 2)) (1.13.1)\n",
      "Requirement already satisfied: pillow!=8.3.*,>=5.3.0 in c:\\users\\isaac\\documents\\github\\flowers-recognition\\.venv\\lib\\site-packages (from torchvision==0.20.1->-r requirements.txt (line 3)) (11.0.0)\n",
      "Requirement already satisfied: colorama in c:\\users\\isaac\\documents\\github\\flowers-recognition\\.venv\\lib\\site-packages (from tqdm==4.64.1->-r requirements.txt (line 5)) (0.4.6)\n",
      "Requirement already satisfied: contourpy>=1.0.1 in c:\\users\\isaac\\documents\\github\\flowers-recognition\\.venv\\lib\\site-packages (from matplotlib==3.10.1->-r requirements.txt (line 6)) (1.3.1)\n",
      "Requirement already satisfied: cycler>=0.10 in c:\\users\\isaac\\documents\\github\\flowers-recognition\\.venv\\lib\\site-packages (from matplotlib==3.10.1->-r requirements.txt (line 6)) (0.12.1)\n",
      "Requirement already satisfied: fonttools>=4.22.0 in c:\\users\\isaac\\documents\\github\\flowers-recognition\\.venv\\lib\\site-packages (from matplotlib==3.10.1->-r requirements.txt (line 6)) (4.57.0)\n",
      "Requirement already satisfied: kiwisolver>=1.3.1 in c:\\users\\isaac\\documents\\github\\flowers-recognition\\.venv\\lib\\site-packages (from matplotlib==3.10.1->-r requirements.txt (line 6)) (1.4.8)\n",
      "Requirement already satisfied: packaging>=20.0 in c:\\users\\isaac\\documents\\github\\flowers-recognition\\.venv\\lib\\site-packages (from matplotlib==3.10.1->-r requirements.txt (line 6)) (24.2)\n",
      "Requirement already satisfied: pyparsing>=2.3.1 in c:\\users\\isaac\\documents\\github\\flowers-recognition\\.venv\\lib\\site-packages (from matplotlib==3.10.1->-r requirements.txt (line 6)) (3.2.3)\n",
      "Requirement already satisfied: python-dateutil>=2.7 in c:\\users\\isaac\\documents\\github\\flowers-recognition\\.venv\\lib\\site-packages (from matplotlib==3.10.1->-r requirements.txt (line 6)) (2.9.0.post0)\n",
      "Requirement already satisfied: mpmath<1.4,>=1.1.0 in c:\\users\\isaac\\documents\\github\\flowers-recognition\\.venv\\lib\\site-packages (from sympy==1.13.1->torch==2.5.1->-r requirements.txt (line 2)) (1.3.0)\n",
      "Requirement already satisfied: six>=1.5 in c:\\users\\isaac\\documents\\github\\flowers-recognition\\.venv\\lib\\site-packages (from python-dateutil>=2.7->matplotlib==3.10.1->-r requirements.txt (line 6)) (1.17.0)\n",
      "Requirement already satisfied: MarkupSafe>=2.0 in c:\\users\\isaac\\documents\\github\\flowers-recognition\\.venv\\lib\\site-packages (from jinja2->torch==2.5.1->-r requirements.txt (line 2)) (2.1.5)\n"
     ]
    }
   ],
   "source": [
    "%pip install -r requirements.txt"
   ]
  },
  {
   "cell_type": "markdown",
   "metadata": {},
   "source": [
    "### Environment Setup\n",
    "\n",
    "This section setups the environment by doing the following:\n",
    "1. Importing the dependencies\n",
    "2. Checking if CUDA is available on device running this notebook\n",
    "3. Setting up of transforms for data augmentation\n",
    "4. Setting up data folder and downloading of datasets"
   ]
  },
  {
   "cell_type": "code",
   "execution_count": 3,
   "metadata": {},
   "outputs": [],
   "source": [
    "# Import necessary libraries\n",
    "import os\n",
    "import time\n",
    "import copy\n",
    "import numpy as np\n",
    "import matplotlib.pyplot as plt\n",
    "from tqdm.notebook import tqdm \n",
    "\n",
    "# Torch dependencies\n",
    "import torch\n",
    "import torch.nn as nn\n",
    "import torch.optim as optim\n",
    "from torch.optim import lr_scheduler\n",
    "from torchvision import datasets, models, transforms\n",
    "from torch.utils.data import DataLoader\n",
    "from torchsummary import summary  # For model architecture visualization"
   ]
  },
  {
   "cell_type": "code",
   "execution_count": null,
   "metadata": {},
   "outputs": [
    {
     "name": "stdout",
     "output_type": "stream",
     "text": [
      "Using device: cuda\n"
     ]
    }
   ],
   "source": [
    "# Check device and set up environment, especially if CUDA is available\n",
    "device = torch.device(\"cuda\" if torch.cuda.is_available() else \"cpu\")\n",
    "print(f\"Using device: {device}\")"
   ]
  }
 ],
 "metadata": {
  "kernelspec": {
   "display_name": ".venv",
   "language": "python",
   "name": "python3"
  },
  "language_info": {
   "codemirror_mode": {
    "name": "ipython",
    "version": 3
   },
   "file_extension": ".py",
   "mimetype": "text/x-python",
   "name": "python",
   "nbconvert_exporter": "python",
   "pygments_lexer": "ipython3",
   "version": "3.10.11"
  }
 },
 "nbformat": 4,
 "nbformat_minor": 2
}
