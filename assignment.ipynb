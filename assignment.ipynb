{
 "cells": [
  {
   "cell_type": "markdown",
   "metadata": {},
   "source": [
    "## Flowers Recognition \n",
    "\n",
    "The Oxford Flowers 102 dataset is a collection of 102 flower categories commonly occurring in the United \n",
    "Kingdom. Each class consists of between 40 and 258 images. The images have large scale, pose and light \n",
    "variations. In addition, there are categories that have large variations within the category and several very \n",
    "similar categories. \n",
    "The dataset is divided into a training set, a validation set and a test set. The training set and validation set \n",
    "each consist of 10 images per class (a total of 1020 images each). The test set consists of the remaining \n",
    "6149 images (minimum 20 per class). Some tasks to consider: \n",
    "1. Modify some previously published architectures e.g., increase the network depth, reducing their \n",
    "parameters,  etc.  Explore  more  advanced  techniques  such  as  deformable  convolution,  dilated \n",
    "convolution (dilation>1) or visual prompt tuning for Transformers. \n",
    "2. Analyze the results of using fewer training images, i.e., few-shot learning \n",
    "3. Use  more  advanced  transformation  techniques  such  as  MixUp  (see  the  original  paper  and  its \n",
    "PyTorch implementation here) \n",
    "4. Try more advanced loss function such as triplet loss"
   ]
  },
  {
   "cell_type": "code",
   "execution_count": null,
   "metadata": {},
   "outputs": [
    {
     "name": "stdout",
     "output_type": "stream",
     "text": [
      "Requirement already satisfied: torch==2.5.1 in ./.venv/lib/python3.11/site-packages (from -r requirements_mac.txt (line 1)) (2.5.1)\n",
      "Requirement already satisfied: torchvision==0.20.1 in ./.venv/lib/python3.11/site-packages (from -r requirements_mac.txt (line 2)) (0.20.1)\n",
      "Requirement already satisfied: torchaudio==2.5.1 in ./.venv/lib/python3.11/site-packages (from -r requirements_mac.txt (line 3)) (2.5.1)\n",
      "Requirement already satisfied: tqdm==4.64.1 in ./.venv/lib/python3.11/site-packages (from -r requirements_mac.txt (line 4)) (4.64.1)\n",
      "Requirement already satisfied: matplotlib==3.10.1 in ./.venv/lib/python3.11/site-packages (from -r requirements_mac.txt (line 5)) (3.10.1)\n",
      "Requirement already satisfied: numpy==1.24.3 in ./.venv/lib/python3.11/site-packages (from -r requirements_mac.txt (line 6)) (1.24.3)\n",
      "Requirement already satisfied: scipy==1.15.2 in ./.venv/lib/python3.11/site-packages (from -r requirements_mac.txt (line 7)) (1.15.2)\n",
      "Requirement already satisfied: pandas==2.2.3 in ./.venv/lib/python3.11/site-packages (from -r requirements_mac.txt (line 8)) (2.2.3)\n",
      "Requirement already satisfied: torchsummary==1.5.1 in ./.venv/lib/python3.11/site-packages (from -r requirements_mac.txt (line 9)) (1.5.1)\n",
      "Requirement already satisfied: setuptools in ./.venv/lib/python3.11/site-packages (from -r requirements_mac.txt (line 10)) (65.5.0)\n",
      "Requirement already satisfied: filelock in ./.venv/lib/python3.11/site-packages (from torch==2.5.1->-r requirements_mac.txt (line 1)) (3.18.0)\n",
      "Requirement already satisfied: typing-extensions>=4.8.0 in ./.venv/lib/python3.11/site-packages (from torch==2.5.1->-r requirements_mac.txt (line 1)) (4.13.1)\n",
      "Requirement already satisfied: networkx in ./.venv/lib/python3.11/site-packages (from torch==2.5.1->-r requirements_mac.txt (line 1)) (3.4.2)\n",
      "Requirement already satisfied: jinja2 in ./.venv/lib/python3.11/site-packages (from torch==2.5.1->-r requirements_mac.txt (line 1)) (3.1.6)\n",
      "Requirement already satisfied: fsspec in ./.venv/lib/python3.11/site-packages (from torch==2.5.1->-r requirements_mac.txt (line 1)) (2025.3.2)\n",
      "Requirement already satisfied: sympy==1.13.1 in ./.venv/lib/python3.11/site-packages (from torch==2.5.1->-r requirements_mac.txt (line 1)) (1.13.1)\n",
      "Requirement already satisfied: pillow!=8.3.*,>=5.3.0 in ./.venv/lib/python3.11/site-packages (from torchvision==0.20.1->-r requirements_mac.txt (line 2)) (11.1.0)\n",
      "Requirement already satisfied: contourpy>=1.0.1 in ./.venv/lib/python3.11/site-packages (from matplotlib==3.10.1->-r requirements_mac.txt (line 5)) (1.3.1)\n",
      "Requirement already satisfied: cycler>=0.10 in ./.venv/lib/python3.11/site-packages (from matplotlib==3.10.1->-r requirements_mac.txt (line 5)) (0.12.1)\n",
      "Requirement already satisfied: fonttools>=4.22.0 in ./.venv/lib/python3.11/site-packages (from matplotlib==3.10.1->-r requirements_mac.txt (line 5)) (4.57.0)\n",
      "Requirement already satisfied: kiwisolver>=1.3.1 in ./.venv/lib/python3.11/site-packages (from matplotlib==3.10.1->-r requirements_mac.txt (line 5)) (1.4.8)\n",
      "Requirement already satisfied: packaging>=20.0 in ./.venv/lib/python3.11/site-packages (from matplotlib==3.10.1->-r requirements_mac.txt (line 5)) (24.2)\n",
      "Requirement already satisfied: pyparsing>=2.3.1 in ./.venv/lib/python3.11/site-packages (from matplotlib==3.10.1->-r requirements_mac.txt (line 5)) (3.2.3)\n",
      "Requirement already satisfied: python-dateutil>=2.7 in ./.venv/lib/python3.11/site-packages (from matplotlib==3.10.1->-r requirements_mac.txt (line 5)) (2.9.0.post0)\n",
      "Requirement already satisfied: pytz>=2020.1 in ./.venv/lib/python3.11/site-packages (from pandas==2.2.3->-r requirements_mac.txt (line 8)) (2025.2)\n",
      "Requirement already satisfied: tzdata>=2022.7 in ./.venv/lib/python3.11/site-packages (from pandas==2.2.3->-r requirements_mac.txt (line 8)) (2025.2)\n",
      "Requirement already satisfied: mpmath<1.4,>=1.1.0 in ./.venv/lib/python3.11/site-packages (from sympy==1.13.1->torch==2.5.1->-r requirements_mac.txt (line 1)) (1.3.0)\n",
      "Requirement already satisfied: six>=1.5 in ./.venv/lib/python3.11/site-packages (from python-dateutil>=2.7->matplotlib==3.10.1->-r requirements_mac.txt (line 5)) (1.17.0)\n",
      "Requirement already satisfied: MarkupSafe>=2.0 in ./.venv/lib/python3.11/site-packages (from jinja2->torch==2.5.1->-r requirements_mac.txt (line 1)) (3.0.2)\n",
      "\u001b[33mWARNING: There was an error checking the latest version of pip.\u001b[0m\u001b[33m\n",
      "\u001b[0mNote: you may need to restart the kernel to use updated packages.\n"
     ]
    }
   ],
   "source": [
    "import platform\n",
    "\n",
    "if platform.system() == \"Darwin\":  # macOS\n",
    "    %pip install -r requirements_mac.txt\n",
    "else:\n",
    "    %pip install -r requirements.txt"
   ]
  },
  {
   "cell_type": "markdown",
   "metadata": {},
   "source": [
    "### Environment Setup\n",
    "\n",
    "This section setups the environment by doing the following:\n",
    "1. Importing the dependencies\n",
    "2. Checking if CUDA is available on device running this notebook\n",
    "3. Setting up of transforms for data augmentation\n",
    "4. Setting up data folder and downloading of datasets"
   ]
  },
  {
   "cell_type": "code",
   "execution_count": 2,
   "metadata": {},
   "outputs": [],
   "source": [
    "# Import necessary libraries\n",
    "import os\n",
    "import time\n",
    "import copy\n",
    "import numpy as np\n",
    "import matplotlib.pyplot as plt\n",
    "from tqdm.notebook import tqdm \n",
    "\n",
    "# Torch dependencies\n",
    "import torch\n",
    "import torch.nn as nn\n",
    "import torch.optim as optim\n",
    "from torch.optim import lr_scheduler\n",
    "from torchvision import datasets, models, transforms\n",
    "from torch.utils.data import DataLoader\n",
    "from torchsummary import summary  # For model architecture visualization"
   ]
  },
  {
   "cell_type": "code",
   "execution_count": 4,
   "metadata": {},
   "outputs": [
    {
     "name": "stdout",
     "output_type": "stream",
     "text": [
      "Using device: mps\n"
     ]
    }
   ],
   "source": [
    "# Check device and set up environment, especially if CUDA is available\n",
    "device = torch.device(\"mps\" if torch.backends.mps.is_available() else (\"cuda\" if torch.cuda.is_available() else \"cpu\"))\n",
    "print(f\"Using device: {device}\")"
   ]
  },
  {
   "cell_type": "code",
   "execution_count": null,
   "metadata": {},
   "outputs": [
    {
     "name": "stdout",
     "output_type": "stream",
     "text": [
      "Tensor A:\n",
      "tensor([[ 0.3279, -0.7582, -1.3762],\n",
      "        [ 1.6719, -1.1975,  1.5821],\n",
      "        [ 0.0403, -1.1838, -0.7464]], device='mps:0')\n",
      "\n",
      "Tensor B:\n",
      "tensor([[-1.3084,  0.0957,  0.1557],\n",
      "        [ 0.7415, -0.7738,  1.6747],\n",
      "        [-0.8811,  1.3196,  1.2208]], device='mps:0')\n",
      "\n",
      "Result of Matrix Multiplication:\n",
      "The computation was performed on the GPU.\n",
      "tensor([[ 0.2213, -1.1980, -2.8988],\n",
      "        [-4.4694,  3.1744,  0.1863],\n",
      "        [-0.2729, -0.0650, -2.8874]], device='mps:0')\n"
     ]
    }
   ],
   "source": [
    "# Create two random tensors on the GPU\n",
    "tensor_a = torch.randn(3, 3, device=device)\n",
    "tensor_b = torch.randn(3, 3, device=device)\n",
    "\n",
    "# Perform matrix multiplication\n",
    "result = torch.matmul(tensor_a, tensor_b)\n",
    "\n",
    "# Print the result\n",
    "print(\"Tensor A:\")\n",
    "print(tensor_a)\n",
    "print(\"\\nTensor B:\")\n",
    "print(tensor_b)\n",
    "print(\"\\nResult of Matrix Multiplication:\")"
   ]
  },
  {
   "cell_type": "code",
   "execution_count": null,
   "metadata": {},
   "outputs": [],
   "source": []
  }
 ],
 "metadata": {
  "kernelspec": {
   "display_name": ".venv",
   "language": "python",
   "name": "python3"
  },
  "language_info": {
   "codemirror_mode": {
    "name": "ipython",
    "version": 3
   },
   "file_extension": ".py",
   "mimetype": "text/x-python",
   "name": "python",
   "nbconvert_exporter": "python",
   "pygments_lexer": "ipython3",
   "version": "3.11.6"
  }
 },
 "nbformat": 4,
 "nbformat_minor": 2
}
